{
 "cells": [
  {
   "cell_type": "code",
   "execution_count": 5,
   "metadata": {
    "scrolled": true
   },
   "outputs": [],
   "source": [
    "!python findroute.py --calles Archivos\\edges_pitts.txt -s 104878620 -g 105012740 -m dfs > salida1.txt"
   ]
  },
  {
   "cell_type": "code",
   "execution_count": 1,
   "metadata": {},
   "outputs": [],
   "source": [
    "!python findroute.py --calles Archivos\\edges_pitts.txt -s 104878620 -g 105012740 -m bfs > salida2.txt"
   ]
  },
  {
   "cell_type": "code",
   "execution_count": 2,
   "metadata": {
    "scrolled": true
   },
   "outputs": [],
   "source": [
    "!python findroute.py --calles Archivos\\edges_pitts.txt -s 104878620 -g 105012740 -m ids > salida3.txt"
   ]
  },
  {
   "cell_type": "code",
   "execution_count": 3,
   "metadata": {},
   "outputs": [],
   "source": [
    "!python findroute.py --calles Archivos\\edges_pitts.txt -s 104878620 -g 105012740 -m bis > salida4.txt"
   ]
  },
  {
   "cell_type": "code",
   "execution_count": 4,
   "metadata": {},
   "outputs": [],
   "source": [
    "!python findroute.py --calles Archivos\\edges_pitts.txt -s 104878620 -g 105012740 -m astar -l Archivos\\heuristics_pitts.txt > salida5.txt"
   ]
  },
  {
   "cell_type": "code",
   "execution_count": 8,
   "metadata": {
    "scrolled": true
   },
   "outputs": [
    {
     "name": "stdout",
     "output_type": "stream",
     "text": [
      "Ruta encontrada: ['go8', 'go2', 'go10']\n",
      "Costo de la ruta encontrada 10.0\n",
      "Numero de nodos en la ruta encontrada 3\n",
      "Nro de nodos visitados: 31\n",
      "Nro de nodos en memoria: 3\n"
     ]
    }
   ],
   "source": [
    "!python findroute.py --calles Archivos\\datos.txt -s 1 -g 10 -m ids"
   ]
  },
  {
   "cell_type": "code",
   "execution_count": 2,
   "metadata": {
    "scrolled": false
   },
   "outputs": [
    {
     "name": "stdout",
     "output_type": "stream",
     "text": [
      "Ruta encontrada: ['go8', 'go7', 'go10']\n",
      "Costo de la ruta encontrada 10.0\n",
      "Numero de nodos en la ruta encontrada 3\n",
      "Numero de nodos visitados: 5\n",
      "Numero de nodos en memoria: 8\n"
     ]
    }
   ],
   "source": [
    "!python findroute.py --calles Archivos\\datos.txt -s 1 -g 10 -m dfs"
   ]
  },
  {
   "cell_type": "code",
   "execution_count": 3,
   "metadata": {},
   "outputs": [
    {
     "name": "stdout",
     "output_type": "stream",
     "text": [
      "Ruta encontrada: ['go8', 'go2', 'go10']\n",
      "Costo de la ruta encontrada 10.0\n",
      "Numero de nodos en la ruta encontrada 3\n",
      "Numero de nodos visitados: 11\n",
      "Numero de nodos en memoria: 11\n"
     ]
    }
   ],
   "source": [
    "!python findroute.py --calles Archivos\\datos.txt -s 1 -g 10 -m bfs"
   ]
  },
  {
   "cell_type": "code",
   "execution_count": 5,
   "metadata": {
    "scrolled": true
   },
   "outputs": [
    {
     "name": "stdout",
     "output_type": "stream",
     "text": [
      "Ruta encontrada: ['go3', 'go6', 'go9']\n",
      "Costo de la ruta encontrada 14.0\n",
      "Numero de nodos en la ruta encontrada 3\n",
      "Numero de nodos visitados: []\n",
      "Numero de nodos en memoria: []\n"
     ]
    }
   ],
   "source": [
    "!python findroute.py -e Archivos\\datos.txt -s 1 -g 10 -m bis"
   ]
  },
  {
   "cell_type": "code",
   "execution_count": 6,
   "metadata": {},
   "outputs": [
    {
     "name": "stdout",
     "output_type": "stream",
     "text": [
      "Ruta encontrada: ['go8', 'go2', 'go10']\n",
      "Costo de la ruta encontrada: 10.0\n",
      "Numero de nodos en la ruta encontrada: 3\n",
      "Nro de nodos visitados: [<Node 1>, <Node 3>, <Node 4>, <Node 8>, <Node 2>, <Node 5>, <Node 7>, <Node 6>, <Node 10>]\n",
      "Nro de nodos en memoria: []\n"
     ]
    }
   ],
   "source": [
    "!python findroute.py -e Archivos\\datos.txt -s 1 -g 10 -m astar -l Archivos\\h_datos.txt"
   ]
  }
 ],
 "metadata": {
  "kernelspec": {
   "display_name": "Python 3",
   "language": "python",
   "name": "python3"
  },
  "language_info": {
   "codemirror_mode": {
    "name": "ipython",
    "version": 3
   },
   "file_extension": ".py",
   "mimetype": "text/x-python",
   "name": "python",
   "nbconvert_exporter": "python",
   "pygments_lexer": "ipython3",
   "version": "3.7.1"
  }
 },
 "nbformat": 4,
 "nbformat_minor": 2
}
