{
 "cells": [
  {
   "cell_type": "code",
   "execution_count": 2,
   "metadata": {
    "scrolled": true
   },
   "outputs": [
    {
     "name": "stdout",
     "output_type": "stream",
     "text": [
      "1\n",
      "9\n",
      "ids\n",
      "{'1': [('3', '5.0'), ('4', '4.0'), ('8', '2.0')], '3': [('1', '5.0'), ('6', '6.0')], '4': [('1', '4.0'), ('5', '7.0')], '8': [('1', '2.0'), ('2', '1.0'), ('7', '5.0')], '2': [('5', '5.0'), ('7', '9.0'), ('8', '1.0'), ('0', '7.0')], '5': [('2', '5.0'), ('4', '7.0'), ('6', '7.0'), ('9', '8.0')], '7': [('2', '9.0'), ('0', '3.0'), ('8', '5.0')], '0': [('2', '7.0'), ('7', '3.0'), ('9', '2.0')], '6': [('3', '6.0'), ('5', '7.0'), ('9', '1.0')], '9': [('5', '8.0'), ('6', '1.0'), ('0', '2.0')]}\n",
      "Solucion del Problema de Busqueda en mapa de Romania con BFS: ['go3', 'go6', 'go9']\n",
      "Solucion del Problema de Busqueda en mapa de Romania con DFS: ['go8', 'go7', 'go0', 'go9']\n",
      "{'1': [('3', '5.0'), ('4', '4.0'), ('8', '2.0')], '3': [('1', '5.0'), ('6', '6.0')], '4': [('1', '4.0'), ('5', '7.0')], '8': [('1', '2.0'), ('2', '1.0'), ('7', '5.0')], '2': [('5', '5.0'), ('7', '9.0'), ('8', '1.0'), ('0', '7.0')], '5': [('2', '5.0'), ('4', '7.0'), ('6', '7.0'), ('9', '8.0')], '7': [('2', '9.0'), ('0', '3.0'), ('8', '5.0')], '0': [('2', '7.0'), ('7', '3.0'), ('9', '2.0')], '6': [('3', '6.0'), ('5', '7.0'), ('9', '1.0')], '9': [('5', '8.0'), ('6', '1.0'), ('0', '2.0')]}\n"
     ]
    }
   ],
   "source": [
    "!python findroute.py --calles Archivos\\datos.txt -s 1 -g 9 -m ids"
   ]
  }
 ],
 "metadata": {
  "kernelspec": {
   "display_name": "Python 3",
   "language": "python",
   "name": "python3"
  },
  "language_info": {
   "codemirror_mode": {
    "name": "ipython",
    "version": 3
   },
   "file_extension": ".py",
   "mimetype": "text/x-python",
   "name": "python",
   "nbconvert_exporter": "python",
   "pygments_lexer": "ipython3",
   "version": "3.7.1"
  }
 },
 "nbformat": 4,
 "nbformat_minor": 2
}
