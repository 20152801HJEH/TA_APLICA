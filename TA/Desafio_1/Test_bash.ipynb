{
 "cells": [
  {
   "cell_type": "code",
   "execution_count": 2,
   "metadata": {
    "scrolled": true
   },
   "outputs": [
    {
     "name": "stdout",
     "output_type": "stream",
     "text": [
      "Solucion del Problema de Busqueda en mapa de Romania con BFS: ['go3', 'go6', 'go9']\n",
      "Solucion del Problema de Busqueda en mapa de Romania con DFS: ['go8', 'go7', 'go0', 'go9']\n"
     ]
    }
   ],
   "source": [
    "!python findroute.py --calles Archivos\\datos.txt -s 1 -g 9 -m ids"
   ]
  },
  {
   "cell_type": "code",
   "execution_count": null,
   "metadata": {},
   "outputs": [],
   "source": []
  }
 ],
 "metadata": {
  "kernelspec": {
   "display_name": "Python 3",
   "language": "python",
   "name": "python3"
  },
  "language_info": {
   "codemirror_mode": {
    "name": "ipython",
    "version": 3
   },
   "file_extension": ".py",
   "mimetype": "text/x-python",
   "name": "python",
   "nbconvert_exporter": "python",
   "pygments_lexer": "ipython3",
   "version": "3.7.1"
  }
 },
 "nbformat": 4,
 "nbformat_minor": 2
}
