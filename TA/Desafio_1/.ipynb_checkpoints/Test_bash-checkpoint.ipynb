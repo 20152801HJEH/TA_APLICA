{
 "cells": [
  {
   "cell_type": "code",
   "execution_count": 16,
   "metadata": {
    "scrolled": true
   },
   "outputs": [],
   "source": [
    "!python findroute.py --calles Archivos\\edges_pitts.txt -s 104878620 -g 105012740 -m dfs > salida1.txt"
   ]
  },
  {
   "cell_type": "code",
   "execution_count": 5,
   "metadata": {},
   "outputs": [],
   "source": [
    "!python findroute.py --calles Archivos\\edges_pitts.txt -s 104878620 -g 105012740 -m bfs > salida2.txt"
   ]
  },
  {
   "cell_type": "code",
   "execution_count": 35,
   "metadata": {
    "scrolled": true
   },
   "outputs": [],
   "source": [
    "!python findroute.py --calles Archivos\\edges_pitts.txt -s 104878620 -g 105012740 -m ids > salida3.txt"
   ]
  },
  {
   "cell_type": "code",
   "execution_count": 34,
   "metadata": {
    "scrolled": true
   },
   "outputs": [
    {
     "name": "stdout",
     "output_type": "stream",
     "text": [
      "Solucion del Problema de Busqueda en mapa con IDS: ['go8', 'go2', 'go10']\n",
      "Nro de nodos visitados: 31\n",
      "Nro de nodos en memoria: 3\n"
     ]
    }
   ],
   "source": [
    "!python findroute.py --calles Archivos\\datos.txt -s 1 -g 10 -m ids"
   ]
  },
  {
   "cell_type": "code",
   "execution_count": 3,
   "metadata": {
    "scrolled": false
   },
   "outputs": [
    {
     "name": "stdout",
     "output_type": "stream",
     "text": [
      "Solucion del Problema de Busqueda en mapa con DFS: ['go8', 'go7', 'go10']\n",
      "Nro de nodos visitados: 5\n",
      "Nro de nodos en memoria: 9\n"
     ]
    }
   ],
   "source": [
    "!python findroute.py --calles Archivos\\datos.txt -s 1 -g 10 -m dfs"
   ]
  },
  {
   "cell_type": "code",
   "execution_count": 18,
   "metadata": {},
   "outputs": [
    {
     "name": "stdout",
     "output_type": "stream",
     "text": [
      "Solucion del Problema de Busqueda en mapa con BFS: ['go8', 'go2', 'go10']\n",
      "Nro de nodos visitados: 14\n",
      "Nro de nodos en memoria: 20\n"
     ]
    }
   ],
   "source": [
    "!python findroute.py --calles Archivos\\datos.txt -s 1 -g 10 -m bfs"
   ]
  },
  {
   "cell_type": "code",
   "execution_count": 59,
   "metadata": {
    "scrolled": true
   },
   "outputs": [
    {
     "name": "stdout",
     "output_type": "stream",
     "text": [
      "Solucion del Problema de Busqueda en mapa con IDS: ['go8'] ['go2', 'go8']\n"
     ]
    }
   ],
   "source": [
    "!python findroute.py --calles Archivos\\datos.txt -s 1 -g 10 -m bis"
   ]
  },
  {
   "cell_type": "code",
   "execution_count": null,
   "metadata": {},
   "outputs": [],
   "source": []
  }
 ],
 "metadata": {
  "kernelspec": {
   "display_name": "Python 3",
   "language": "python",
   "name": "python3"
  },
  "language_info": {
   "codemirror_mode": {
    "name": "ipython",
    "version": 3
   },
   "file_extension": ".py",
   "mimetype": "text/x-python",
   "name": "python",
   "nbconvert_exporter": "python",
   "pygments_lexer": "ipython3",
   "version": "3.7.1"
  }
 },
 "nbformat": 4,
 "nbformat_minor": 2
}
